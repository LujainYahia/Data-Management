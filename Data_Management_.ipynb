{
  "nbformat": 4,
  "nbformat_minor": 0,
  "metadata": {
    "colab": {
      "provenance": []
    },
    "kernelspec": {
      "name": "python3",
      "display_name": "Python 3"
    },
    "language_info": {
      "name": "python"
    }
  },
  "cells": [
    {
      "cell_type": "code",
      "execution_count": 1,
      "metadata": {
        "id": "UeeJaoWBoDKW",
        "colab": {
          "base_uri": "https://localhost:8080/"
        },
        "outputId": "0e823e95-a1c8-4ce7-ebf3-c50e6cb30b6d"
      },
      "outputs": [
        {
          "output_type": "stream",
          "name": "stdout",
          "text": [
            "File customers.txt Created with Content..\n",
            "File students.txt Created with Content..\n"
          ]
        }
      ],
      "source": [
        "file1 = open(\"customers.txt\", \"w\")\n",
        "file1.write(\"George\")\n",
        "file1.close()\n",
        "\n",
        "print(\"File customers.txt Created with Content..\")\n",
        "\n",
        "with open(\"students.txt\", \"w\") as file2:\n",
        "    file2.write(\"Anna\")\n",
        "    file2.close()\n",
        "    print(\"File students.txt Created with Content..\")"
      ]
    },
    {
      "cell_type": "code",
      "source": [
        "# customer = {\n",
        "#     \"name\": \"Anna\",\n",
        "#     \"phone\": \"+91 99999 11111\",\n",
        "#     \"email\": \"anna@example.com\"\n",
        "# }\n",
        "\n",
        "file = open(\"customers.csv\", \"a\")\n",
        "\n",
        "while True:\n",
        "\n",
        "    customer = {}\n",
        "    customer[\"name\"] = input(\"Enter Cutsomer Name:\")\n",
        "    customer[\"phone\"] = input(\"Enter Cutsomer Phone:\")\n",
        "    customer[\"email\"] = input(\"Enter Cutsomer Email:\")\n",
        "\n",
        "    print(\"Customer Details:\")\n",
        "    customer_csv = \"{name},{phone},{email}\\n\".format_map(customer)\n",
        "    print(customer_csv)\n",
        "    file.write(customer_csv)\n",
        "    choice = input(\"Enter quit to exit..\")\n",
        "    if choice == \"quit\":\n",
        "        break\n",
        "\n",
        "file.close()\n",
        "print(\"Thank You.. Customers Saved in customers.csv file..\")"
      ],
      "metadata": {
        "colab": {
          "base_uri": "https://localhost:8080/"
        },
        "id": "MX5dVJxDTDBI",
        "outputId": "c1675456-72a3-4e23-c038-9521988cf106"
      },
      "execution_count": 2,
      "outputs": [
        {
          "output_type": "stream",
          "name": "stdout",
          "text": [
            "Enter Cutsomer Name:LUJAIN\n",
            "Enter Cutsomer Phone:123456\n",
            "Enter Cutsomer Email:AFDSGFD@HTYU\n",
            "Customer Details:\n",
            "LUJAIN,123456,AFDSGFD@HTYU\n",
            "\n",
            "Enter quit to exit..quit\n",
            "Thank You.. Customers Saved in customers.csv file..\n"
          ]
        }
      ]
    },
    {
      "cell_type": "code",
      "source": [
        "file1 = open(\"students.csv\", \"r\")\n",
        "lines = file1.readlines()\n",
        "print(lines)\n",
        "\n",
        "file2 = open(\"customers.csv\", \"a\")\n",
        "for line in lines:\n",
        "    file2.write(line)\n",
        "\n",
        "file1.close()\n",
        "file2.close()\n",
        "\n",
        "print(\"Files Concatenated...\")"
      ],
      "metadata": {
        "colab": {
          "base_uri": "https://localhost:8080/"
        },
        "outputId": "855a7b85-f24c-40bd-d239-4d4cbd555356",
        "id": "6pbr-Ou0TN6w"
      },
      "execution_count": 3,
      "outputs": [
        {
          "output_type": "stream",
          "name": "stdout",
          "text": [
            "['Bob,+91 99999 23232,bob@example.com\\n', 'Den,+91 98765 11223,den@example.com\\n', 'Mark,+91 90909 88776,mark@example.com\\n', 'qwwcqhueannjnyej']\n",
            "Files Concatenated...\n"
          ]
        }
      ]
    }
  ]
}